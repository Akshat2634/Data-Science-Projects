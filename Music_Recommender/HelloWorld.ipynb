{
 "cells": [
  {
   "cell_type": "code",
   "execution_count": 49,
   "metadata": {
    "scrolled": true
   },
   "outputs": [],
   "source": [
    "import pandas as pd\n",
    "from sklearn.tree import DecisionTreeClassifier #sklearn is the library that comes with scikit-learn library.\n",
    "                                                #In this package we have a module Tree and in this module we have a class called decision tree classifier.\n",
    "                                                #This class implements decision tree algorithm.       \n",
    "from sklearn import tree\n",
    "        \n",
    "music_data = pd.read_csv(\"music.csv\")\n",
    "X = music_data.drop(columns = [\"genre\"]) #input data set\n",
    "y = music_data[\"genre\"] #output data set\n",
    "\n",
    "\n",
    "model = DecisionTreeClassifier() #creating a model\n",
    "model.fit(X , y) #training model so that it learns patterns in data.\n",
    "\n",
    "tree.export_graphviz(model , out_file = \"music-recommender.dot\",\n",
    "                    feature_names=[\"age\" , \"gender\"],\n",
    "                   class_names=sorted(y.unique()),\n",
    "                     label = \"all\",\n",
    "                     rounded = True,\n",
    "                     filled= True) \n"
   ]
  },
  {
   "cell_type": "code",
   "execution_count": null,
   "metadata": {},
   "outputs": [],
   "source": []
  }
 ],
 "metadata": {
  "kernelspec": {
   "display_name": "Python 3",
   "language": "python",
   "name": "python3"
  },
  "language_info": {
   "codemirror_mode": {
    "name": "ipython",
    "version": 3
   },
   "file_extension": ".py",
   "mimetype": "text/x-python",
   "name": "python",
   "nbconvert_exporter": "python",
   "pygments_lexer": "ipython3",
   "version": "3.8.5"
  }
 },
 "nbformat": 4,
 "nbformat_minor": 4
}
